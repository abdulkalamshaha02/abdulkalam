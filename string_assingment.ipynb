{
 "cells": [
  {
   "cell_type": "markdown",
   "id": "e1837fe4-fe95-40dd-8877-608fb734753e",
   "metadata": {},
   "source": [
    "### 1.find length of given string(given by user) without using len() function "
   ]
  },
  {
   "cell_type": "code",
   "execution_count": 9,
   "id": "51f7e248-53fd-4c1c-9776-670d922d6588",
   "metadata": {},
   "outputs": [
    {
     "name": "stdin",
     "output_type": "stream",
     "text": [
      "enter string hjhjhk\n"
     ]
    },
    {
     "name": "stdout",
     "output_type": "stream",
     "text": [
      "string length is :  6\n"
     ]
    }
   ],
   "source": [
    "str =input(\"enter string\")\n",
    "count =0\n",
    "for i in str:\n",
    "    count +=1\n",
    "print(\"string length is : \",count)"
   ]
  },
  {
   "cell_type": "code",
   "execution_count": 16,
   "id": "ad39b542-9a45-4184-827d-045a78eca7c1",
   "metadata": {},
   "outputs": [
    {
     "name": "stdout",
     "output_type": "stream",
     "text": [
      "23\n",
      "13\n"
     ]
    },
    {
     "data": {
      "text/plain": [
       "'chten24jagtap'"
      ]
     },
     "execution_count": 16,
     "metadata": {},
     "output_type": "execute_result"
    }
   ],
   "source": [
    "# extract useid from given mail i'd eg if the mail is chten24jagtap@gmail.com\n",
    "#them user name should be \"chetan24jagtap\"\n",
    "s = \"chten24jagtap@gmail.com\"\n",
    "print(len(s))\n",
    "print(s.find(\"@\")) \n",
    "s[0:13]  # using slicing"
   ]
  },
  {
   "cell_type": "code",
   "execution_count": 18,
   "id": "a719a245-96d6-444e-95e5-f3ef96a26805",
   "metadata": {},
   "outputs": [
    {
     "name": "stdin",
     "output_type": "stream",
     "text": [
      "enter mail id abdulkalam@gmail.co\n"
     ]
    },
    {
     "data": {
      "text/plain": [
       "'abdulkalam'"
      ]
     },
     "execution_count": 18,
     "metadata": {},
     "output_type": "execute_result"
    }
   ],
   "source": [
    "# 2 way to extract mail id \n",
    "mail_id= input(\"enter mail id\")\n",
    "poss=mail_id.index(\"@\")\n",
    "mail_id[0:poss]"
   ]
  },
  {
   "cell_type": "markdown",
   "id": "b1dcff61-aacb-4be3-a045-c41a5389f801",
   "metadata": {},
   "source": [
    "### 2. count the frequency of perticular character in provided string  Eg \"hello how are you\" is the string , the freq of \"h\" in this string is 2 without using count function "
   ]
  },
  {
   "cell_type": "code",
   "execution_count": null,
   "id": "3daf57b0-ed32-4b07-8c3e-8619ad9a9f31",
   "metadata": {},
   "outputs": [],
   "source": [
    "s = input (\"enter  string\")\n",
    "a = 0\n",
    "count = 0\n",
    "for i in s:\n",
    "    count += 1\n"
   ]
  },
  {
   "cell_type": "code",
   "execution_count": 4,
   "id": "3dab687f-76e0-432c-96ae-bfcaa7d6a719",
   "metadata": {},
   "outputs": [
    {
     "name": "stdin",
     "output_type": "stream",
     "text": [
      "Enter Your String abdulkalam\n",
      "Enter Your Character a\n"
     ]
    },
    {
     "name": "stdout",
     "output_type": "stream",
     "text": [
      "3\n"
     ]
    }
   ],
   "source": [
    "str=input(\"Enter Your String\")\n",
    "char=input(\"Enter Your Character\")\n",
    "count=0\n",
    "for i in str:\n",
    "    if (i==char):\n",
    "        count=count+1\n",
    "print(count)"
   ]
  },
  {
   "cell_type": "markdown",
   "id": "af7adff2-e5e8-46a9-8e37-4399b53b5098",
   "metadata": {},
   "source": [
    "### 3.write a program which can remove a perticular from string"
   ]
  },
  {
   "cell_type": "code",
   "execution_count": 14,
   "id": "21f832a9-f2fb-46c1-809e-f37d256719f1",
   "metadata": {},
   "outputs": [
    {
     "name": "stdin",
     "output_type": "stream",
     "text": [
      "Enter Your String abdulkslk\n",
      "Enter Remove Character k\n"
     ]
    },
    {
     "name": "stdout",
     "output_type": "stream",
     "text": [
      "abdulsl"
     ]
    }
   ],
   "source": [
    "str=input(\"Enter Your String\")\n",
    "char=input(\"Enter Remove Character\")\n",
    "\n",
    "for i in str:\n",
    "    if i==char:\n",
    "        continue\n",
    "    else:\n",
    "        print(i,end=\"\")"
   ]
  },
  {
   "cell_type": "code",
   "execution_count": 19,
   "id": "214da1b2-8cd5-46f7-b9d0-b848c8e845fa",
   "metadata": {},
   "outputs": [
    {
     "name": "stdin",
     "output_type": "stream",
     "text": [
      "enter your string heloo\n",
      "what you want to remove o\n"
     ]
    },
    {
     "name": "stdout",
     "output_type": "stream",
     "text": [
      "hel\n"
     ]
    }
   ],
   "source": [
    "s = input (\"enter your string\")\n",
    "term = input(\"what you want to remove\")\n",
    "result = \"\"\n",
    "for i in s:\n",
    "    if i != term:\n",
    "        result = result +i\n",
    "print(result)"
   ]
  },
  {
   "cell_type": "markdown",
   "id": "5af9df12-ceec-4ffb-bf42-90277afea03c",
   "metadata": {},
   "source": [
    "###  5.write a program that can check whether a given string a polindrome or not"
   ]
  },
  {
   "cell_type": "code",
   "execution_count": null,
   "id": "5f46cc9e-3aba-4953-9311-63134f12f401",
   "metadata": {},
   "outputs": [],
   "source": []
  }
 ],
 "metadata": {
  "kernelspec": {
   "display_name": "Python 3 (ipykernel)",
   "language": "python",
   "name": "python3"
  },
  "language_info": {
   "codemirror_mode": {
    "name": "ipython",
    "version": 3
   },
   "file_extension": ".py",
   "mimetype": "text/x-python",
   "name": "python",
   "nbconvert_exporter": "python",
   "pygments_lexer": "ipython3",
   "version": "3.11.7"
  }
 },
 "nbformat": 4,
 "nbformat_minor": 5
}
